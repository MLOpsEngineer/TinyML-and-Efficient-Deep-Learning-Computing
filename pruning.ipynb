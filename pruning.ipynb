{
 "cells": [
  {
   "cell_type": "code",
   "execution_count": 1,
   "metadata": {},
   "outputs": [
    {
     "name": "stdout",
     "output_type": "stream",
     "text": [
      "원본 가중치: [ 0.2 -0.5  0.1  0.   0.3 -0.2]\n",
      "Pruning된 가중치: [ 0.2 -0.5  0.1  0.   0.3 -0.2]\n"
     ]
    }
   ],
   "source": [
    "import numpy as np\n",
    "\n",
    "'''\n",
    "1. 가중치 제거 vs 0으로 설정\n",
    "가중치 제거: 가중치를 완전히 제거하는 방식은 네트워크의 구조를 변경하여 더 작은 네트워크를 만드는 것을 의미합니다. 그러나, 이 방식은 구현이 복잡하고, 네트워크의 성능에 큰 영향을 미칠 수 있습니다.\n",
    "0으로 설정: 가중치를 0으로 설정하는 방식은 네트워크의 구조를 변경하지 않고, 단순히 가중치를 0으로 설정하는 것을 의미합니다. 이 방식은 구현이 간단하고, 네트워크의 성능에 미치는 영향을 최소화할 수 있습니다.\n",
    "2. 0으로 설정의 장점\n",
    "구현의 간단함: 가중치를 0으로 설정하는 방식은 구현이 간단합니다. 단순히 가중치를 0으로 설정하면 되기 때문입니다.\n",
    "성능의 안정성: 가중치를 0으로 설정하는 방식은 네트워크의 성능에 미치는 영향을 최소화할 수 있습니다. 가중치를 0으로 설정하면, 해당 가중치는 더 이상 사용되지 않기 때문입니다.\n",
    "'''\n",
    "\n",
    "# 원본 가중치\n",
    "original_weights = np.array([0.2, -0.5, 0.1, 0.0, 0.3, -0.2])\n",
    "\n",
    "# 작은 가중치를 pruning (크기가 0.1보다 작은 경우 0으로 처리)\n",
    "pruned_weights = np.where(np.abs(original_weights) < 0.1, 0, original_weights)\n",
    "\n",
    "# 결과\n",
    "print(\"원본 가중치:\", original_weights)\n",
    "print(\"Pruning된 가중치:\", pruned_weights)"
   ]
  },
  {
   "cell_type": "code",
   "execution_count": 4,
   "metadata": {},
   "outputs": [
    {
     "name": "stdout",
     "output_type": "stream",
     "text": [
      "원본 가중치: [ 0.2 -0.5  0.1  0.   0.3 -0.2]\n",
      "Pruning된 가중치: [ 0.2 -0.5  0.   0.   0.3 -0.2]\n"
     ]
    }
   ],
   "source": [
    "# 작은 가중치를 pruning (크기가 0.2보다 작은 경우 0으로 처리)\n",
    "pruned_weights = np.where(np.abs(original_weights) < 0.2, 0, original_weights)\n",
    "\n",
    "# 결과\n",
    "print(\"원본 가중치:\", original_weights)\n",
    "print(\"Pruning된 가중치:\", pruned_weights)"
   ]
  },
  {
   "cell_type": "code",
   "execution_count": 5,
   "metadata": {},
   "outputs": [
    {
     "data": {
      "text/plain": [
       "'\\n1. 미세 가지치기 (Fine-Grain Pruning)\\n정의: 미세 가지치기는 개별 가중치를 제거하는 방식입니다. 이는 가중치를 0으로 설정하여 네트워크를 sparse하게 만드는 것을 포함합니다.\\n장점: 미세 가지치기는 매우 유연한 방식으로, 불필요한 가중치를 자유롭게 제거할 수 있어 압축 비율이 높아집니다2.\\n단점: 미세 가지치기는 하드웨어에서 가속화하기 어렵습니다. 특히 GPU에서 작업이 불규칙하게 이루어지기 때문에 병렬화가 힘들어집니다2.\\n2. 채널 가지치기 (Channel Pruning)\\n정의: 채널 가지치기는 전체 채널을 제거하는 방식입니다. 이는 네트워크의 구조를 변경하여 더 작은 네트워크를 만드는 것을 포함합니다.\\n장점: 채널 가지치기는 채널 수가 줄어듦으로써 네트워크의 크기를 줄일 수 있습니다. 또한, 기존의 하드웨어에서도 별도의 특수 하드웨어 없이 가속할 수 있습니다1.\\n단점: 채널 가지치기는 압축 비율이 낮을 수밖에 없습니다. 이는 전체 채널을 제거하는 방식이기 때문에, 네트워크의 크기를 줄이지만 압축 비율이 낮아집니다1.\\n'"
      ]
     },
     "execution_count": 5,
     "metadata": {},
     "output_type": "execute_result"
    }
   ],
   "source": [
    "'''\n",
    "1. 미세 가지치기 (Fine-Grain Pruning)\n",
    "정의: 미세 가지치기는 개별 가중치를 제거하는 방식입니다. 이는 가중치를 0으로 설정하여 네트워크를 sparse하게 만드는 것을 포함합니다.\n",
    "장점: 미세 가지치기는 매우 유연한 방식으로, 불필요한 가중치를 자유롭게 제거할 수 있어 압축 비율이 높아집니다2.\n",
    "단점: 미세 가지치기는 하드웨어에서 가속화하기 어렵습니다. 특히 GPU에서 작업이 불규칙하게 이루어지기 때문에 병렬화가 힘들어집니다2.\n",
    "2. 채널 가지치기 (Channel Pruning)\n",
    "정의: 채널 가지치기는 전체 채널을 제거하는 방식입니다. 이는 네트워크의 구조를 변경하여 더 작은 네트워크를 만드는 것을 포함합니다.\n",
    "장점: 채널 가지치기는 채널 수가 줄어듦으로써 네트워크의 크기를 줄일 수 있습니다. 또한, 기존의 하드웨어에서도 별도의 특수 하드웨어 없이 가속할 수 있습니다1.\n",
    "단점: 채널 가지치기는 압축 비율이 낮을 수밖에 없습니다. 이는 전체 채널을 제거하는 방식이기 때문에, 네트워크의 크기를 줄이지만 압축 비율이 낮아집니다1.\n",
    "'''"
   ]
  },
  {
   "cell_type": "code",
   "execution_count": 7,
   "metadata": {},
   "outputs": [
    {
     "name": "stdout",
     "output_type": "stream",
     "text": [
      "원본 가중치: [[[[0.18979483 0.57330719]\n",
      "   [0.94226222 0.10781055]\n",
      "   [0.32970678 0.70236143]]\n",
      "\n",
      "  [[0.43573193 0.76942613]\n",
      "   [0.70546028 0.33398331]\n",
      "   [0.51795816 0.77743764]]\n",
      "\n",
      "  [[0.43340057 0.30646537]\n",
      "   [0.03570792 0.31461193]\n",
      "   [0.00934329 0.63722549]]]\n",
      "\n",
      "\n",
      " [[[0.7190841  0.07678016]\n",
      "   [0.59919261 0.72542146]\n",
      "   [0.75850934 0.29582978]]\n",
      "\n",
      "  [[0.39645259 0.80566217]\n",
      "   [0.28268332 0.71261415]\n",
      "   [0.4744531  0.59079308]]\n",
      "\n",
      "  [[0.09447724 0.1037672 ]\n",
      "   [0.41585852 0.06085993]\n",
      "   [0.56852805 0.56077676]]]\n",
      "\n",
      "\n",
      " [[[0.94465772 0.51534978]\n",
      "   [0.10154653 0.9064323 ]\n",
      "   [0.22257185 0.4744088 ]]\n",
      "\n",
      "  [[0.72258556 0.14493024]\n",
      "   [0.48795444 0.49195408]\n",
      "   [0.84037233 0.35538185]]\n",
      "\n",
      "  [[0.91346054 0.81346059]\n",
      "   [0.26395469 0.40927704]\n",
      "   [0.6705853  0.08254477]]]]\n"
     ]
    }
   ],
   "source": [
    "# 원본 가중치 (3x3 커널, 3개의 출력 채널, 2개의 입력 채널)\n",
    "original_weights = np.random.rand(3, 3, 3, 2)\n",
    "\n",
    "# 미세 가지치기 (크기가 0.1보다 작은 경우)\n",
    "fine_grain_pruned_weights = np.where(np.abs(original_weights) < 0.1, 0, original_weights)\n",
    "\n",
    "# 채널 가지치기 (2번째 입력 채널을 제거)\n",
    "channel_pruned_weights = np.delete(original_weights, 1, axis=3)\n",
    "\n",
    "# 결과\n",
    "print(\"원본 가중치:\", original_weights)"
   ]
  },
  {
   "cell_type": "code",
   "execution_count": 12,
   "metadata": {},
   "outputs": [
    {
     "name": "stdout",
     "output_type": "stream",
     "text": [
      "미세 가지치기된 가중치: [[[[0.18979483 0.57330719]\n",
      "   [0.94226222 0.10781055]\n",
      "   [0.32970678 0.70236143]]\n",
      "\n",
      "  [[0.43573193 0.76942613]\n",
      "   [0.70546028 0.33398331]\n",
      "   [0.51795816 0.77743764]]\n",
      "\n",
      "  [[0.43340057 0.30646537]\n",
      "   [0.         0.31461193]\n",
      "   [0.         0.63722549]]]\n",
      "\n",
      "\n",
      " [[[0.7190841  0.        ]\n",
      "   [0.59919261 0.72542146]\n",
      "   [0.75850934 0.29582978]]\n",
      "\n",
      "  [[0.39645259 0.80566217]\n",
      "   [0.28268332 0.71261415]\n",
      "   [0.4744531  0.59079308]]\n",
      "\n",
      "  [[0.         0.1037672 ]\n",
      "   [0.41585852 0.        ]\n",
      "   [0.56852805 0.56077676]]]\n",
      "\n",
      "\n",
      " [[[0.94465772 0.51534978]\n",
      "   [0.10154653 0.9064323 ]\n",
      "   [0.22257185 0.4744088 ]]\n",
      "\n",
      "  [[0.72258556 0.14493024]\n",
      "   [0.48795444 0.49195408]\n",
      "   [0.84037233 0.35538185]]\n",
      "\n",
      "  [[0.91346054 0.81346059]\n",
      "   [0.26395469 0.40927704]\n",
      "   [0.6705853  0.        ]]]] \n",
      "shape:  (3, 3, 3, 2)\n"
     ]
    }
   ],
   "source": [
    "print(\"미세 가지치기된 가중치:\", fine_grain_pruned_weights, \"\\nshape: \", fine_grain_pruned_weights.shape)"
   ]
  },
  {
   "cell_type": "code",
   "execution_count": 11,
   "metadata": {},
   "outputs": [
    {
     "name": "stdout",
     "output_type": "stream",
     "text": [
      "채널 가지치기된 가중치: [[[[0.18979483]\n",
      "   [0.94226222]\n",
      "   [0.32970678]]\n",
      "\n",
      "  [[0.43573193]\n",
      "   [0.70546028]\n",
      "   [0.51795816]]\n",
      "\n",
      "  [[0.43340057]\n",
      "   [0.03570792]\n",
      "   [0.00934329]]]\n",
      "\n",
      "\n",
      " [[[0.7190841 ]\n",
      "   [0.59919261]\n",
      "   [0.75850934]]\n",
      "\n",
      "  [[0.39645259]\n",
      "   [0.28268332]\n",
      "   [0.4744531 ]]\n",
      "\n",
      "  [[0.09447724]\n",
      "   [0.41585852]\n",
      "   [0.56852805]]]\n",
      "\n",
      "\n",
      " [[[0.94465772]\n",
      "   [0.10154653]\n",
      "   [0.22257185]]\n",
      "\n",
      "  [[0.72258556]\n",
      "   [0.48795444]\n",
      "   [0.84037233]]\n",
      "\n",
      "  [[0.91346054]\n",
      "   [0.26395469]\n",
      "   [0.6705853 ]]]] \n",
      "채널 shape:  (3, 3, 3, 1)\n"
     ]
    }
   ],
   "source": [
    "print(\"채널 가지치기된 가중치:\", channel_pruned_weights, \"\\n채널 shape: \", channel_pruned_weights.shape)"
   ]
  },
  {
   "cell_type": "code",
   "execution_count": 15,
   "metadata": {},
   "outputs": [
    {
     "data": {
      "image/png": "[encoded data removed]",
      "text/plain": [
       "<Figure size 640x480 with 1 Axes>"
      ]
     },
     "metadata": {},
     "output_type": "display_data"
    }
   ],
   "source": [
    "import numpy as np\n",
    "import matplotlib.pyplot as plt\n",
    "\n",
    "# 손실 함수를 시뮬레이션하는 함수 정의\n",
    "def loss_function(weights):\n",
    "    return np.sum(weights**2)  # 단순 제곱 손실 함수\n",
    "\n",
    "# Hessian 계산\n",
    "def hessian(weights):\n",
    "    return 2 * np.eye(len(weights))  # 예로써 단순 대각 Hessian\n",
    "\n",
    "# Pruning을 위해 첫 번째 시냅스를 선택\n",
    "def second_order_pruning(weights):\n",
    "    H = hessian(weights)  # Hessian 계산\n",
    "    H_inv = np.linalg.inv(H)  # Hessian의 역행렬 계산\n",
    "    salience = np.zeros(len(weights))\n",
    "    for i in range(len(weights)):\n",
    "        salience[i] = weights[i]**2 / (2 * H_inv[i, i])  # Selector of saliency\n",
    "    return salience\n",
    "\n",
    "# 초기 가중치 설정\n",
    "weights = np.array([0.5, -0.2, 0.1, -0.8, 0.6])\n",
    "\n",
    "# Salience 계산\n",
    "salience = second_order_pruning(weights)\n",
    "\n",
    "# 결과는 pruning된 가중치의 중요도를 나타내는 salience 값으로 표현됩니다.\n",
    "# Salience value가 크다는 것은 해당 가중치가 네트워크의 성능에 중요한 역할을 한다는 것을 의미합니다. \n",
    "# 따라서, salience value가 큰 가중치는 남기고, 작은 가중치는 pruning하여 제거하는 것이 일반적입니다. \n",
    "# 이렇게 하면 네트워크의 성능을 최대한 유지하면서 불필요한 가중치를 줄일 수 있습니다.\n",
    "plt.bar(range(len(weights)), salience)\n",
    "plt.title('Salience for Weights Based on Second-Order Pruning')\n",
    "plt.xlabel('Weight Index')\n",
    "plt.ylabel('Salience Value')\n",
    "plt.show()\n"
   ]
  },
  {
   "cell_type": "code",
   "execution_count": null,
   "metadata": {},
   "outputs": [],
   "source": []
  }
 ],
 "metadata": {
  "kernelspec": {
   "display_name": "Python 3",
   "language": "python",
   "name": "python3"
  },
  "language_info": {
   "codemirror_mode": {
    "name": "ipython",
    "version": 3
   },
   "file_extension": ".py",
   "mimetype": "text/x-python",
   "name": "python",
   "nbconvert_exporter": "python",
   "pygments_lexer": "ipython3",
   "version": "3.11.9"
  }
 },
 "nbformat": 4,
 "nbformat_minor": 2
}
