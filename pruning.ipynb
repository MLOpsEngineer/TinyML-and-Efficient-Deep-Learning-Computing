{
 "cells": [
  {
   "cell_type": "code",
   "execution_count": 1,
   "metadata": {},
   "outputs": [
    {
     "name": "stdout",
     "output_type": "stream",
     "text": [
      "원본 가중치: [ 0.2 -0.5  0.1  0.   0.3 -0.2]\n",
      "Pruning된 가중치: [ 0.2 -0.5  0.1  0.   0.3 -0.2]\n"
     ]
    }
   ],
   "source": [
    "import numpy as np\n",
    "\n",
    "'''\n",
    "1. 가중치 제거 vs 0으로 설정\n",
    "가중치 제거: 가중치를 완전히 제거하는 방식은 네트워크의 구조를 변경하여 더 작은 네트워크를 만드는 것을 의미합니다. 그러나, 이 방식은 구현이 복잡하고, 네트워크의 성능에 큰 영향을 미칠 수 있습니다.\n",
    "0으로 설정: 가중치를 0으로 설정하는 방식은 네트워크의 구조를 변경하지 않고, 단순히 가중치를 0으로 설정하는 것을 의미합니다. 이 방식은 구현이 간단하고, 네트워크의 성능에 미치는 영향을 최소화할 수 있습니다.\n",
    "2. 0으로 설정의 장점\n",
    "구현의 간단함: 가중치를 0으로 설정하는 방식은 구현이 간단합니다. 단순히 가중치를 0으로 설정하면 되기 때문입니다.\n",
    "성능의 안정성: 가중치를 0으로 설정하는 방식은 네트워크의 성능에 미치는 영향을 최소화할 수 있습니다. 가중치를 0으로 설정하면, 해당 가중치는 더 이상 사용되지 않기 때문입니다.\n",
    "'''\n",
    "\n",
    "# 원본 가중치\n",
    "original_weights = np.array([0.2, -0.5, 0.1, 0.0, 0.3, -0.2])\n",
    "\n",
    "# 작은 가중치를 pruning (크기가 0.1보다 작은 경우 0으로 처리)\n",
    "pruned_weights = np.where(np.abs(original_weights) < 0.1, 0, original_weights)\n",
    "\n",
    "# 결과\n",
    "print(\"원본 가중치:\", original_weights)\n",
    "print(\"Pruning된 가중치:\", pruned_weights)"
   ]
  },
  {
   "cell_type": "code",
   "execution_count": 4,
   "metadata": {},
   "outputs": [
    {
     "name": "stdout",
     "output_type": "stream",
     "text": [
      "원본 가중치: [ 0.2 -0.5  0.1  0.   0.3 -0.2]\n",
      "Pruning된 가중치: [ 0.2 -0.5  0.   0.   0.3 -0.2]\n"
     ]
    }
   ],
   "source": [
    "# 작은 가중치를 pruning (크기가 0.2보다 작은 경우 0으로 처리)\n",
    "pruned_weights = np.where(np.abs(original_weights) < 0.2, 0, original_weights)\n",
    "\n",
    "# 결과\n",
    "print(\"원본 가중치:\", original_weights)\n",
    "print(\"Pruning된 가중치:\", pruned_weights)"
   ]
  },
  {
   "cell_type": "code",
   "execution_count": null,
   "metadata": {},
   "outputs": [],
   "source": []
  }
 ],
 "metadata": {
  "kernelspec": {
   "display_name": "Python 3",
   "language": "python",
   "name": "python3"
  },
  "language_info": {
   "codemirror_mode": {
    "name": "ipython",
    "version": 3
   },
   "file_extension": ".py",
   "mimetype": "text/x-python",
   "name": "python",
   "nbconvert_exporter": "python",
   "pygments_lexer": "ipython3",
   "version": "3.11.9"
  }
 },
 "nbformat": 4,
 "nbformat_minor": 2
}
